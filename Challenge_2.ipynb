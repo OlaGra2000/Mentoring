{
 "cells": [
  {
   "cell_type": "code",
   "execution_count": 53,
   "id": "bdbc61f6",
   "metadata": {},
   "outputs": [
    {
     "name": "stdout",
     "output_type": "stream",
     "text": [
      "Aleksandra\n",
      "ardnaskelA\n"
     ]
    }
   ],
   "source": [
    "#1. Write a program that as input accepts a string typed on keyboard and as output it will print this string reversed\n",
    "\n",
    "def reverse_text(x):\n",
    "    return x[::-1]\n",
    "\n",
    "mytxt = reverse_text(input())\n",
    "print(mytxt)"
   ]
  },
  {
   "cell_type": "code",
   "execution_count": 71,
   "id": "3ba998da",
   "metadata": {},
   "outputs": [],
   "source": [
    "#For further reading  - the use of ':' in lists.\n",
    "# def reverse_text(x):\n",
    "#     return x[-2::-2]\n",
    "\n",
    "# mytxt = reverse_text(input())\n",
    "# print(mytxt)"
   ]
  },
  {
   "cell_type": "code",
   "execution_count": 21,
   "id": "7729eb2d",
   "metadata": {},
   "outputs": [],
   "source": [
    "#2. Write a word counter: as input program accepts a txt file, then reads the content from the file and as output prints the number of words in that txt file.You need to create this txt file first and fill it with some sentences.\n",
    "\n",
    "# with open(\"word_count_file.txt\", mode=\"w\") as file_handle:\n",
    "#     file_handle.write(\"Once upon a time there was a girl named Little Red Riding Hood.\")"
   ]
  },
  {
   "cell_type": "code",
   "execution_count": 73,
   "id": "9b7762e5",
   "metadata": {},
   "outputs": [
    {
     "name": "stdout",
     "output_type": "stream",
     "text": [
      "Once upon a time there was a girl named Little Red Riding Hood.\n",
      "['Once', 'upon', 'a', 'time', 'there', 'was', 'a', 'girl', 'named', 'Little', 'Red', 'Riding', 'Hood.']\n",
      "Number of words in text file : 13\n"
     ]
    }
   ],
   "source": [
    "with open(\"word_count_file.txt\", mode=\"r\") as file_handle:\n",
    "    text = file_handle.read()\n",
    "    words=text.split() #metoda split dzieli tekst na elementy i \"umieszcza\" do listy\n",
    "    print(text)\n",
    "    print(words)\n",
    "    print('Number of words in text file :',len(words)) #Metoda len jest stosowana do listy 'words'."
   ]
  },
  {
   "cell_type": "code",
   "execution_count": 100,
   "id": "a87964ad",
   "metadata": {},
   "outputs": [
    {
     "name": "stdout",
     "output_type": "stream",
     "text": [
      "Ola Monolla\n",
      "['Ola', 'Monolla']\n"
     ]
    },
    {
     "data": {
      "text/plain": [
       "True"
      ]
     },
     "execution_count": 100,
     "metadata": {},
     "output_type": "execute_result"
    }
   ],
   "source": [
    "#3. Write a function to check duplicate letters in words. It must accept strings ie. a sentence.\n",
    "#The function should return True if any of the words has duplicate letters else return False.\n",
    "\n",
    "def find_duplicates(my_text):\n",
    "    words=my_text.split()\n",
    "    print(words)\n",
    "    for word in words:\n",
    "        for letter in word:\n",
    "            if word.count(letter)>1:\n",
    "                return True\n",
    "    return False\n",
    "find_duplicates(input())"
   ]
  },
  {
   "cell_type": "code",
   "execution_count": 104,
   "id": "b0be203c",
   "metadata": {},
   "outputs": [
    {
     "name": "stdout",
     "output_type": "stream",
     "text": [
      "OlaaA\n"
     ]
    },
    {
     "data": {
      "text/plain": [
       "4"
      ]
     },
     "execution_count": 104,
     "metadata": {},
     "output_type": "execute_result"
    }
   ],
   "source": [
    "#4. Write a function that counts the number of vowels in a given word.\n",
    "vowels = ['a','e','i','o','u','y']\n",
    "def count_vowels(x):\n",
    "    vowels_count=0\n",
    "    for letter in x:\n",
    "        if letter in vowels:\n",
    "            vowels_count=vowels_count+1\n",
    "    return vowels_count\n",
    "count_vowels(input().lower())"
   ]
  }
 ],
 "metadata": {
  "kernelspec": {
   "display_name": "Python 3 (ipykernel)",
   "language": "python",
   "name": "python3"
  },
  "language_info": {
   "codemirror_mode": {
    "name": "ipython",
    "version": 3
   },
   "file_extension": ".py",
   "mimetype": "text/x-python",
   "name": "python",
   "nbconvert_exporter": "python",
   "pygments_lexer": "ipython3",
   "version": "3.11.5"
  }
 },
 "nbformat": 4,
 "nbformat_minor": 5
}
