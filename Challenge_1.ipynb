{
 "cells": [
  {
   "cell_type": "code",
   "execution_count": 1,
   "id": "35bcb95f",
   "metadata": {},
   "outputs": [
    {
     "name": "stdout",
     "output_type": "stream",
     "text": [
      "1; 2; 3-Fizz; 4; 5-Buzz; 6-Fizz; 7; 8; 9-Fizz; 10-Buzz; 11; 12-Fizz; 13; 14; 15-FizzBuzz; 16; 17; 18-Fizz; 19; 20-Buzz; 21-Fizz; 22; 23; 24-Fizz; 25-Buzz; 26; 27-Fizz; 28; 29; 30-FizzBuzz; 31; 32; 33-Fizz; 34; 35-Buzz; 36-Fizz; 37; 38; 39-Fizz; 40-Buzz; 41; 42-Fizz; 43; 44; 45-FizzBuzz; 46; 47; 48-Fizz; 49; 50-Buzz; 51-Fizz; 52; 53; 54-Fizz; 55-Buzz; 56; 57-Fizz; 58; 59; 60-FizzBuzz; 61; 62; 63-Fizz; 64; 65-Buzz; 66-Fizz; 67; 68; 69-Fizz; 70-Buzz; 71; 72-Fizz; 73; 74; 75-FizzBuzz; 76; 77; 78-Fizz; 79; 80-Buzz; 81-Fizz; 82; 83; 84-Fizz; 85-Buzz; 86; 87-Fizz; 88; 89; 90-FizzBuzz; 91; 92; 93-Fizz; 94; 95-Buzz; 96-Fizz; 97; 98; 99-Fizz; 100-Buzz; "
     ]
    }
   ],
   "source": [
    "# 1. Implement the famous FizzBuzz algorithm!\n",
    "# Write a function (or just code without a function around it) that will print into the console integer numbers from 1 to 100.\n",
    "\n",
    "# In addition an algorithm should print in the same row as number specific word (or words) i.e.:\n",
    "\n",
    "# For each number divisible by three it should print “number-that-is-divisible-by-three” and “Fizz” word (e.g: “3 – Fizz”)\n",
    "# For each number divisible by five it should print “number-that-is-divisible-by-five” and “Buzz” word (e.g.: “5 – Buzz”)\n",
    "# If a number is divisible by both three and five it should print “FizzBuzz” word (e.g.: “15 – FizzBuzz”)\n",
    "\n",
    "for n in range(1,101):\n",
    "    if n % 5 == 0 and n % 3==0:\n",
    "         print (f\"{n}-FizzBuzz\", end='; ')\n",
    "    elif  n % 3 == 0:\n",
    "        print(f\"{n}-Fizz\", end ='; ')\n",
    "    elif n % 5 == 0:\n",
    "        print(f\"{n}-Buzz\", end='; ')\n",
    "    else:\n",
    "        print(n, end ='; ')"
   ]
  },
  {
   "cell_type": "code",
   "execution_count": 3,
   "id": "bfabf4cd",
   "metadata": {},
   "outputs": [
    {
     "name": "stdout",
     "output_type": "stream",
     "text": [
      "Podaj pierwszą liczbę: 5\n",
      "Podaj drugą liczbę: 125\n",
      "Największym Wspólnim Dzielnikiem dla liczb:  5 i 125 jest liczba: 5\n"
     ]
    }
   ],
   "source": [
    "#3 Implement Greatest Common Divisor (GCD or in Polish Największy Wspólny Podzielnik) algorithm.\n",
    "def nwd (a,b):\n",
    "    while a!=b:\n",
    "        if a>b:\n",
    "            a=a-b\n",
    "        else:\n",
    "            b=b-a\n",
    "    return a\n",
    "a = int(input(\"Podaj pierwszą liczbę: \"))\n",
    "b = int(input(\"Podaj drugą liczbę: \"))\n",
    "print(\"Największym Wspólnim Dzielnikiem dla liczb: \",a, \"i\",b, \"jest liczba:\", nwd(a,b))"
   ]
  },
  {
   "cell_type": "code",
   "execution_count": null,
   "id": "0c309310",
   "metadata": {},
   "outputs": [],
   "source": [
    "#2 Implement a system check for new users registering on a UBS-webmail that recently introduced.\n",
    "# Please implement rules as stated below:\n",
    "# Imagine that you're writing application that requires user input and your responsibility is a functionality that will accept and validate user name and email.\n",
    "# Please write a code that will prompt user for both name and email and verify is these fields meet following expectations:\n",
    "# User name can’t include any numeric characters (digits)\n",
    "# User name can’t exceed 15 characters\n",
    "# Email address must start with user name\n",
    "# All email letters must be in lower case (here I’d provide hint that, please note that username and email address case might be different)\n",
    "# Email address must end with `@ubs.com`\n",
    "# Email address must include underscore (`_`) character\n",
    "# Please validate that there are no whitespaces in email address.\n",
    "# In case any of these requirements is not met, print a message that will allow user to easily fix detected issues.\n",
    "# Keep asking for input as long as it's not valid.\n",
    "#PONIŻEJ PRÓBA ZDEFINIOWANIA PROGRAMU - CIAGLE WORK IN PROGRESS\n",
    "while True:\n",
    "    try:\n",
    "        username = input('Enter your username:')\n",
    "        except ValueError:\n",
    "            print('Invalid entry please enter a valid name')\n",
    "        continue\n",
    "    if len(username)>15:\n",
    "        print('Invalid entry. Username should not exceed 15 characters')\n",
    "    if not username.isalpha():\n",
    "        print ('Invalid entry. Username should not contain any digits')\n",
    "    email=input('Enter your email address: ')\n",
    "    domain=email.split('@')\n",
    "    if 'ubs.com' not in domain:\n",
    "        print(\"Invalid email domain\")\n",
    "    else:\n",
    "        print (\"Domain not OK\")\n",
    "    if not email.islower():\n",
    "        print('Invalid entry. Email address must not include uppercase')\n",
    "    else:\n",
    "        break   "
   ]
  }
 ],
 "metadata": {
  "kernelspec": {
   "display_name": "Python 3 (ipykernel)",
   "language": "python",
   "name": "python3"
  },
  "language_info": {
   "codemirror_mode": {
    "name": "ipython",
    "version": 3
   },
   "file_extension": ".py",
   "mimetype": "text/x-python",
   "name": "python",
   "nbconvert_exporter": "python",
   "pygments_lexer": "ipython3",
   "version": "3.11.5"
  }
 },
 "nbformat": 4,
 "nbformat_minor": 5
}
